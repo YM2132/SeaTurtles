{
 "cells": [
  {
   "cell_type": "code",
   "execution_count": 5,
   "id": "6ff23c10",
   "metadata": {},
   "outputs": [
    {
     "name": "stdout",
     "output_type": "stream",
     "text": [
      "Best checkpoint directory: None\n",
      "Best model metric (eval loss): inf\n",
      "No checkpoint found.\n"
     ]
    }
   ],
   "source": [
    "import os\n",
    "import json\n",
    "from transformers import AutoModel\n",
    "\n",
    "def find_best_checkpoint(base_dir):\n",
    "    best_metric = float('inf')  # Adjust if the best metric is max e.g., accuracy\n",
    "    best_checkpoint = None\n",
    "\n",
    "    # Loop through all checkpoint directories\n",
    "    for dirname in os.listdir(base_dir):\n",
    "        if dirname.startswith(\"checkpoint-\"):\n",
    "            checkpoint_dir = os.path.join(base_dir, dirname)\n",
    "            state_file = os.path.join(checkpoint_dir, 'trainer_state.json')\n",
    "\n",
    "            if os.path.exists(state_file):\n",
    "                with open(state_file, 'r') as file:\n",
    "                    state_data = json.load(file)\n",
    "                    # Assuming lower metric is better; adjust if necessary\n",
    "                    if state_data['best_metric'] > best_metric:\n",
    "                        best_metric = state_data['best_metric']\n",
    "                        best_checkpoint = checkpoint_dir\n",
    "\n",
    "    return best_checkpoint, best_metric\n",
    "\n",
    "def load_model_from_checkpoint(checkpoint_path):\n",
    "    if checkpoint_path:\n",
    "        # Load the model\n",
    "        model = AutoModel.from_pretrained(checkpoint_path)\n",
    "        return model\n",
    "    else:\n",
    "        print(\"No checkpoint found.\")\n",
    "        return None\n",
    "\n",
    "# Specify the base directory containing all checkpoints\n",
    "base_dir = '/home/yusuf/python/SeaTurtle/model_results/ViT3_31test'\n",
    "best_checkpoint, best_metric = find_best_checkpoint(base_dir)\n",
    "print(f\"Best checkpoint directory: {best_checkpoint}\")\n",
    "print(f\"Best model metric (eval loss): {best_metric}\")\n",
    "\n",
    "best_model = load_model_from_checkpoint(best_checkpoint)\n"
   ]
  },
  {
   "cell_type": "code",
   "execution_count": null,
   "id": "f2430f1a",
   "metadata": {},
   "outputs": [],
   "source": []
  }
 ],
 "metadata": {
  "kernelspec": {
   "display_name": "gpu_use",
   "language": "python",
   "name": "gpu_use"
  },
  "language_info": {
   "codemirror_mode": {
    "name": "ipython",
    "version": 3
   },
   "file_extension": ".py",
   "mimetype": "text/x-python",
   "name": "python",
   "nbconvert_exporter": "python",
   "pygments_lexer": "ipython3",
   "version": "3.11.7"
  }
 },
 "nbformat": 4,
 "nbformat_minor": 5
}
